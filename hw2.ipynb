{
 "cells": [
  {
   "cell_type": "markdown",
   "metadata": {},
   "source": [
    "# HW2 Multinomial Bayes Classfier\n",
    "\n",
    "#### Name: Haochen (Harry) Wang"
   ]
  },
  {
   "cell_type": "code",
   "execution_count": 12,
   "metadata": {},
   "outputs": [],
   "source": [
    "from run import *\n",
    "import matplotlib.pyplot as plt"
   ]
  },
  {
   "cell_type": "code",
   "execution_count": null,
   "metadata": {},
   "outputs": [],
   "source": []
  },
  {
   "cell_type": "markdown",
   "metadata": {},
   "source": [
    "### Q.1 (18 Points) \n",
    "\n",
    "##### You will first run an experiment to evaluate how the performance of the Naive Bayes algorithm is affected depending on whether (i) you classify instances by computing the pos- terior probability, Pr(yi | Doc), according to the standard equation (Eq. (1)); or (ii) you classify instances by performing the log-transformation trick discussed in class and compare log-probabilities, log(Pr(yi | Doc)), instead of probabilities. Recall, in particular, that estimating the posterior probability using Eq. (1) might cause numerical issues/instability since it requires computing the product of (possibly) hundreds of small terms—which makes this probability estimate rapidly approach zero. To tackle this problem, we often compare not Pr(y1 | Doc) and Pr(y2 | Doc), but the corresponding log-probabilities: log(Pr(y1 | Doc)) and log(Pr(y2 | Doc)). Taking the logarithm of such probabilities transforms the product of hundreds of terms into the sum of hundreds of terms—which avoids numerical issues. Importantly, it does not change which class is more likely according to the trained model. When classifying a new instance, the log-probabilities that should be compared, for each class yi, are as follows:\n",
    "$$ log(Pr(y_i|doc)) = log\\left( Pr(y_i) \\prod_{k=1}^{len(Doc)} Pr(w_k|y_i)\\right) $$\n",
    "$$ log(Pr(y_i|doc)) = log\\left( Pr(y_i) +  \\sum_{k=1}^{len(Doc)} Pr(w_k|y_i)\\right) $$\n",
    "##### In this experiment, you should use 20% of the training set and 20% of the test set; i.e., call the dataset-loading functions by passing 0.2 as their parameters. First, perform the classification of the instances in the test set by comparing posterior probabilities, Pr(yi | Doc), according to Eq. (1), for both classes. Then, report (i) the accuracy of your model; (ii) its precision; (iii) its recall; and (iv) the confusion matrix resulting from this experiment. Now repeat the same experiment above but classify the instances in the test set by comparing log-probabilities, log(Pr(yi | Doc)), according to Eq. (5), for both classes. Report the same quantities as before. Discuss whether classifying instances by computing log-probabilities, instead of probabilities, affects the model’s performance. Assuming that this transformation does have an impact on performance, does it affect more strongly the model’s accuracy, precision, or recall? Why do you think that is the case?"
   ]
  },
  {
   "cell_type": "markdown",
   "metadata": {},
   "source": [
    "#### Q1 Answer:"
   ]
  },
  {
   "cell_type": "code",
   "execution_count": 13,
   "metadata": {},
   "outputs": [
    {
     "name": "stdout",
     "output_type": "stream",
     "text": [
      "Loading Data, at time 0.00 sec\n",
      "Learning Training Data, at time  4.98 sec\n",
      "Testing Positive, at time  7.35 sec\n",
      "Testing Negative, at time  7.77 sec\n",
      "Total Time Cost is  8.16 sec\n",
      "Accuarcy  is:  0.374696\n",
      "Precision is:  0.369882\n",
      "Recall    is:  0.323004\n",
      "F-Score   is:  0.344857\n"
     ]
    }
   ],
   "source": [
    "# Find the value using equation (1), with no log and no laplace smoothing\n",
    "tpq1_1, tnq1_1, fpq1_1, fnq1_1 = naive_bayes(0.2,0.2,0.2,0.2,laplacesmooth=False,logbool=False)"
   ]
  },
  {
   "cell_type": "code",
   "execution_count": 14,
   "metadata": {},
   "outputs": [
    {
     "data": {
      "image/png": "[encoded data removed]",
      "text/plain": [
       "<Figure size 432x288 with 1 Axes>"
      ]
     },
     "metadata": {},
     "output_type": "display_data"
    }
   ],
   "source": [
    "# Now use q1_1 to implement confusion matrix\n",
    "confusionmatrix(tpq1_1, tnq1_1, fpq1_1, fnq1_1,\"Question 1 no log\")"
   ]
  },
  {
   "cell_type": "markdown",
   "metadata": {},
   "source": [
    "Accuarcy  is:  0.387914  \n",
    "Precision  is:  0.384452  \n",
    "Recall       is:  0.348613   \n",
    "\n",
    "Here is the one of the Accuarcy, Precision, Recall and Matrix I have for using equation (1) without using log for the Probability. The value might differ when I export and run the code again."
   ]
  },
  {
   "cell_type": "code",
   "execution_count": 15,
   "metadata": {},
   "outputs": [
    {
     "name": "stdout",
     "output_type": "stream",
     "text": [
      "Loading Data, at time 0.00 sec\n",
      "Learning Training Data, at time  4.87 sec\n",
      "Testing Positive, at time  7.21 sec\n",
      "Testing Negative, at time  7.60 sec\n",
      "Total Time Cost is  7.99 sec\n",
      "Accuarcy  is:  0.573129\n",
      "Precision is:  0.585694\n",
      "Recall    is:  0.493328\n",
      "F-Score   is:  0.535558\n"
     ]
    }
   ],
   "source": [
    "# Repeat the experiment, find the value using equation (5), with no log and no laplace smoothing\n",
    "tpq1_2, tnq1_2, fpq1_2, fnq1_2 = naive_bayes(0.2,0.2,0.2,0.2,laplacesmooth=False,logbool=True)"
   ]
  },
  {
   "cell_type": "code",
   "execution_count": 16,
   "metadata": {},
   "outputs": [
    {
     "data": {
      "image/png": "[encoded data removed]",
      "text/plain": [
       "<Figure size 432x288 with 1 Axes>"
      ]
     },
     "metadata": {},
     "output_type": "display_data"
    }
   ],
   "source": [
    "# Confusion Matrix\n",
    "confusionmatrix(tpq1_2, tnq1_2, fpq1_2, fnq1_2, \"Question 1 with log\")"
   ]
  },
  {
   "cell_type": "markdown",
   "metadata": {},
   "source": [
    "Accuarcy  is:  0.573660  \n",
    "Precision  is:  0.592018  \n",
    "Recall        is:  0.519253  \n",
    "\n",
    "\n",
    "Here is the accuarcy, precision, recall and the confusion matrix after implementing log for probability using equation (5). The data might differ since I will run the code again when exporting."
   ]
  },
  {
   "cell_type": "markdown",
   "metadata": {},
   "source": [
    "The computaion of summing log-probabilities instead of the 'prod_probabilities' increase the accuracy, precision, and recall of the algorithm. \n",
    "\n",
    "Taking accuracy as an example, before using the log-probibiliies, the accuracy was about 0.38. After using lofg for prob, we have accuracy about 0.59, which is a huge improvment: we now correctly classify more than have of the comments (finally better than random!). And for precision and recall, there are also high improvement: from 0.38 to 0.59; from 0.34 to 0.52. \n",
    "\n",
    "I think the reason for this is that in equation (1), we are taking the product of a list of probabilities that are small, for instance, (6.4e-18, 2.3e-28, 1.8e-24, ...) and the length of one comment would generally be more than 100 words (count repeated as one) appeared, so the product would easily exceed the smallest float in python, which is 2.2251e-308. Hence the classifier is inaccurate since there are many zeros. (Also I set the classifier to > and < instead of <= and >=. If the no-log-prob classifier was with <= and >=, the accuracy was about 0.70). After using the log-probilities, we change the product to the sum of log-probilities, and that follows:\n",
    "\n",
    "$$a = b$$\n",
    "$$log(a) = (b) $$\n",
    "\n",
    "So, for probability,\n",
    "\n",
    "$$ Prob(a) < Prob(b) $$\n",
    "$$ log(Prob(a)) < log(Prob(b)) $$\n",
    "\n",
    "And since\n",
    "\n",
    "$$ log(a*b) = log(a)+log(b) $$\n",
    "\n",
    "So we solve the problem of exceeding 2.2251e-308 in equation (1). Hence the equation (5) have a better performance."
   ]
  },
  {
   "cell_type": "markdown",
   "metadata": {},
   "source": [
    "### Q.2 (18 Points) \n",
    "##### An issue with the original Naive Bayes formulation is that if a test instance contains a word that is not present in the vocabulary identified during training, then Pr(word|label) = 0. To mitigate this issue, one solution is to employ Laplace Smoothing. To do so, as discussed in class, we replace the standard way of estimating the probability of a word wk, given a class yi, with the following equation:\n",
    "$$ Pr(w_k|y_i) = \\frac{n(w_k,y_i)+1}{\\sum_{s=1}^{|V|} n(w_s,y_i)+|V|} $$\n",
    "##### More generally, Laplace Smoothing can be performed according to a parametric equation, where instead of adding 1 to the numerator, we adjust the probability of a word belong to a class by adding a user-defined parameter α to the numerator, as follows:\n",
    "$$ Pr(w_k|y_i) = \\frac{n(w_k,y_i)+\\alpha}{\\sum_{s=1}^{|V|} n(w_s,y_i)+\\alpha|V|} $$\n",
    "##### Intuitively, setting α = 0 results in the standard formulation of Naive Bayes—which does not tackle the problem of words that do not appear in the training set. Suppose, alternatively, that we set α = 4. This is equivalent to adding 4 “fake” occurrences of that word to the training set, in order to avoid the zero-frequency problem. Using α = 1000, on the other hand, is equivalent to pretending we have seen that word 1000 times in the training set—even though we may have seen it, say, only 8 times. Although this solves the problem of zero-frequency words, it also strongly biases the model to “believe” that that word appears much more frequently than it actually does; and this could make the predictions made by the system less accurate. For these reasons, although it is important/necessary to perform Laplace Smoothing, we have to carefully pick the value of α that works best for our dataset. Using α = 1 is common, but other values might result in better performance, depending on the dataset being analyzed.\n",
    "##### In this experiment, you should use 20% of the training set and 20% of the test set; i.e., call the dataset-loading functions by passing 0.2 as their parameters. You should first report the confusion matrix, precision, recall, and accuracy of your classifier (when evaluated on the test set) when using α = 1. Now, vary the value of α from 0.0001 to 1000, by multiplying α with 10 each time. That is, try values of α equal to 0.0001, 0.001, 0.01, 0.1, 1.0, 100, and 1000. For each value, record the accuracy of the resulting model when evaluated on the test set. Then, create a plot of the model’s accuracy on the test set (shown on the y-axis) as a function of the value of α (shown on the x-axis). The x-axis should represent α values and use a log scale. Analyze this graph and discuss why do you think the accuracy suffers when α is too high or too low.\n"
   ]
  },
  {
   "cell_type": "markdown",
   "metadata": {},
   "source": [
    "#### Q2 Answer:"
   ]
  },
  {
   "cell_type": "code",
   "execution_count": 17,
   "metadata": {},
   "outputs": [
    {
     "name": "stdout",
     "output_type": "stream",
     "text": [
      "Loading Data, at time 0.00 sec\n",
      "Learning Training Data, at time  4.68 sec\n",
      "Testing Positive, at time  6.91 sec\n",
      "Testing Negative, at time  7.32 sec\n",
      "Total Time Cost is  7.73 sec\n",
      "Accuarcy  is:  0.819420\n",
      "Precision is:  0.876260\n",
      "Recall    is:  0.747751\n",
      "F-Score   is:  0.806921\n"
     ]
    }
   ],
   "source": [
    "tpq2, tnq2, fpq2, fnq2 = naive_bayes(0.2,0.2,0.2,0.2,laplacesmooth=True,logbool=True,smoothconst=1)"
   ]
  },
  {
   "cell_type": "code",
   "execution_count": 18,
   "metadata": {},
   "outputs": [
    {
     "data": {
      "image/png": "[encoded data removed]",
      "text/plain": [
       "<Figure size 432x288 with 1 Axes>"
      ]
     },
     "metadata": {},
     "output_type": "display_data"
    }
   ],
   "source": [
    "confusionmatrix(tpq2, tnq2, fpq2, fnq2,\"Question2 alpha = 1\")"
   ]
  },
  {
   "cell_type": "markdown",
   "metadata": {},
   "source": [
    "Accuarcy  is:  0.812151  \n",
    "Precision  is:  0.868593  \n",
    "Recall        is:  0.738218  \n",
    "\n",
    "We can see with laplace transform with $\\alpha = 1$ , the accuracy, precision and recall all improved with the one without using laplace smoothing: I think that's due to the count in of data in instance/comment with words that's not in the positive/negative 'database' or 'dictionary'. \n",
    "\n",
    "Without Laplace smoothing, when we see a word that never appear in positive dictionary, we just ignore the word, which is incorrect: ignoring the word make the probability of that word 1 (the prob doesn't change after this word); however, what really should happen is we would have a probability count in, and the probability should be close to zero. So laplace smoothing solve the problem of word not in dictionary."
   ]
  },
  {
   "cell_type": "code",
   "execution_count": 19,
   "metadata": {},
   "outputs": [],
   "source": [
    "# Now have fixed data for q2\n",
    "\n",
    "positrainq2, negatrainq2, vocabq2 = load_training_set(0.2,0.2)\n",
    "positestq2, negatestq2 = load_test_set(0.2,0.2)"
   ]
  },
  {
   "cell_type": "code",
   "execution_count": 20,
   "metadata": {},
   "outputs": [
    {
     "name": "stdout",
     "output_type": "stream",
     "text": [
      "Learning Training Data, at time 0.00 sec\n",
      "Testing Positive, at time  2.20 sec\n",
      "Testing Negative, at time  2.61 sec\n",
      "Total Time Cost is  3.03 sec\n",
      "Accuarcy  is:  0.809713\n",
      "Precision is:  0.866200\n",
      "Recall    is:  0.735259\n",
      "F-Score   is:  0.795377\n",
      "Learning Training Data, at time 0.00 sec\n",
      "Testing Positive, at time  2.20 sec\n",
      "Testing Negative, at time  2.61 sec\n",
      "Total Time Cost is  3.02 sec\n",
      "Accuarcy  is:  0.809713\n",
      "Precision is:  0.866200\n",
      "Recall    is:  0.735259\n",
      "F-Score   is:  0.795377\n",
      "Learning Training Data, at time 0.00 sec\n",
      "Testing Positive, at time  2.20 sec\n",
      "Testing Negative, at time  2.62 sec\n",
      "Total Time Cost is  3.03 sec\n",
      "Accuarcy  is:  0.809713\n",
      "Precision is:  0.866200\n",
      "Recall    is:  0.735259\n",
      "F-Score   is:  0.795377\n",
      "Learning Training Data, at time 0.00 sec\n",
      "Testing Positive, at time  2.18 sec\n",
      "Testing Negative, at time  2.62 sec\n",
      "Total Time Cost is  3.02 sec\n",
      "Accuarcy  is:  0.810111\n",
      "Precision is:  0.865644\n",
      "Recall    is:  0.736842\n",
      "F-Score   is:  0.796067\n",
      "Learning Training Data, at time 0.00 sec\n",
      "Testing Positive, at time  2.24 sec\n",
      "Testing Negative, at time  2.67 sec\n",
      "Total Time Cost is  3.09 sec\n",
      "Accuarcy  is:  0.817078\n",
      "Precision is:  0.869146\n",
      "Recall    is:  0.749110\n",
      "F-Score   is:  0.804676\n",
      "Learning Training Data, at time 0.00 sec\n",
      "Testing Positive, at time  2.24 sec\n",
      "Testing Negative, at time  2.66 sec\n",
      "Total Time Cost is  3.06 sec\n",
      "Accuarcy  is:  0.832803\n",
      "Precision is:  0.860933\n",
      "Recall    is:  0.796201\n",
      "F-Score   is:  0.827303\n",
      "Learning Training Data, at time 0.00 sec\n",
      "Testing Positive, at time  2.26 sec\n",
      "Testing Negative, at time  2.68 sec\n",
      "Total Time Cost is  3.09 sec\n",
      "Accuarcy  is:  0.828225\n",
      "Precision is:  0.855252\n",
      "Recall    is:  0.792639\n",
      "F-Score   is:  0.822756\n",
      "Learning Training Data, at time 0.00 sec\n",
      "Testing Positive, at time  2.31 sec\n",
      "Testing Negative, at time  2.75 sec\n",
      "Total Time Cost is  3.19 sec\n",
      "Accuarcy  is:  0.793989\n",
      "Precision is:  0.857965\n",
      "Recall    is:  0.707558\n",
      "F-Score   is:  0.775537\n"
     ]
    }
   ],
   "source": [
    "alpha = 0.0001\n",
    "alphalist = []\n",
    "accuracylist = []\n",
    "while alpha <= 1000:\n",
    "    tpq2_2, tnq2_2, fpq2_2, fnq2_2 = fixdatabayes(positrainq2, negatrainq2, positestq2, negatestq2, vocabq2, True, True, smoothconst=alpha)\n",
    "    accuracylist.append(accuracy(tpq2_2, tnq2_2, fpq2_2, fnq2_2))\n",
    "    alphalist.append(alpha)\n",
    "    alpha*=10\n",
    "    #print(alpha)"
   ]
  },
  {
   "cell_type": "code",
   "execution_count": 21,
   "metadata": {},
   "outputs": [
    {
     "name": "stdout",
     "output_type": "stream",
     "text": [
      "[0.8097133757961783, 0.8097133757961783, 0.8097133757961783, 0.8101114649681529, 0.817078025477707, 0.8328025477707006, 0.8282245222929936, 0.7939888535031847]\n"
     ]
    }
   ],
   "source": [
    "print(accuracylist)"
   ]
  },
  {
   "cell_type": "code",
   "execution_count": 22,
   "metadata": {},
   "outputs": [
    {
     "data": {
      "text/plain": [
       "[<matplotlib.lines.Line2D at 0x157bc6710>]"
      ]
     },
     "execution_count": 22,
     "metadata": {},
     "output_type": "execute_result"
    },
    {
     "data": {
      "image/png": "[encoded data removed]",
      "text/plain": [
       "<Figure size 432x288 with 1 Axes>"
      ]
     },
     "metadata": {
      "needs_background": "light"
     },
     "output_type": "display_data"
    }
   ],
   "source": [
    "plt.xscale(\"log\")\n",
    "plt.xlabel(\"Alpha Value\")\n",
    "plt.ylabel(\"Accuracy\")\n",
    "plt.title(\"Accuracy vs. Laplace Smoothing Constant ALPHA\")\n",
    "plt.plot(alphalist,accuracylist)"
   ]
  },
  {
   "cell_type": "markdown",
   "metadata": {},
   "source": [
    "From the graph, we can find out that it follows the shape of a rollercoaster: is a peak around $\\alpha = 10^1 $ to $10^2$ and the accuracy is low around very small and very big $\\alpha $ value. \n",
    "\n",
    "I think that's because when the $\\alpha $ is too small, the laplace transform's affect would be countless. And when $\\alpha $ is too big, the normal probility's contribution would be decreased. Consider two extreme condition:\n",
    "\n",
    " $$lim_{\\alpha \\to 0}\\frac{n+\\alpha}{N_{sum}+\\alpha |V|} = \\frac{n}{N_{sum}}$$ \n",
    "\n",
    "$$lim_{\\alpha \\to \\infty}\\frac{n+\\alpha}{N_{sum}+\\alpha |V|} = \\frac{1}{|V|}$$ \n",
    "\n",
    "where $n $ is $n(w_k,y_i)$ and $N_{sum} $ is $\\sum_{s=1}^{|V|}n(w_s,y_i)$ \n",
    "\n",
    "What we have in the $\\alpha $ as 1000 and 0.0001 fit in two of those condition above: too big and too small."
   ]
  },
  {
   "cell_type": "markdown",
   "metadata": {},
   "source": [
    "### Q.3 (18 Points) \n",
    "##### Now you will investigate the impact of the training set size on the performance of the model. The classification of new instances, here, should be done by comparing the posterior log-probabilities, log(Pr(yi | Doc)), according to Eq. (5), for both classes. You should use the value of α that resulted in the highest accuracy according to your experiments in the previous question. In this question, you should use 100% of the training set and 100% of the test set; i.e., call the dataset-loading functions by passing 1.0 as their parameters. Then, report (i) the accuracy of your model; (ii) its precision; (iii) its recall; and (iv) the confusion matrix resulting from this experiment.\n"
   ]
  },
  {
   "cell_type": "markdown",
   "metadata": {},
   "source": [
    "#### Q3 Answer:"
   ]
  },
  {
   "cell_type": "code",
   "execution_count": 23,
   "metadata": {},
   "outputs": [
    {
     "name": "stdout",
     "output_type": "stream",
     "text": [
      "Loading Data, at time 0.00 sec\n",
      "Learning Training Data, at time  41.26 sec\n",
      "Testing Positive, at time  120.24 sec\n",
      "Testing Negative, at time  129.05 sec\n",
      "Total Time Cost is  137.83 sec\n",
      "Accuarcy  is:  0.839720\n",
      "Precision is:  0.870194\n",
      "Recall    is:  0.798560\n",
      "F-Score   is:  0.832840\n"
     ]
    }
   ],
   "source": [
    "tpq3, tnq3, fpq3, fnq3 = naive_bayes(1,1,1,1,laplacesmooth=True,logbool=True,smoothconst=10)"
   ]
  },
  {
   "cell_type": "code",
   "execution_count": 24,
   "metadata": {},
   "outputs": [
    {
     "data": {
      "image/png": "[encoded data removed]",
      "text/plain": [
       "<Figure size 432x288 with 1 Axes>"
      ]
     },
     "metadata": {},
     "output_type": "display_data"
    }
   ],
   "source": [
    "confusionmatrix(tpq3, tnq3, fpq3, fnq3,'question3')"
   ]
  },
  {
   "cell_type": "markdown",
   "metadata": {},
   "source": [
    "Accuarcy  is:  0.839720  \n",
    "Precision  is:  0.870194  \n",
    "Recall        is:  0.798560  \n",
    "F-Score     is:  0.832840  \n",
    "\n",
    "The data might change when I run everything again when export the document."
   ]
  },
  {
   "cell_type": "markdown",
   "metadata": {},
   "source": [
    "### Q.4 (18 Points) \n",
    "##### Now repeat the experiment above but use only 50% of the training instances; that is, load the training set by calling load training set(0.5, 0.5). The entire test set should be used. Report the same quantities as in the previous question. Discuss whether using such a smaller training set had any impact on the performance your learned model. Analyze the confusion matrices (of this question and the previous one) and discuss whether one particular class was more affected by changing the size of the training set."
   ]
  },
  {
   "cell_type": "markdown",
   "metadata": {},
   "source": [
    "#### Q4 Answer:"
   ]
  },
  {
   "cell_type": "code",
   "execution_count": 25,
   "metadata": {},
   "outputs": [
    {
     "name": "stdout",
     "output_type": "stream",
     "text": [
      "Loading Data, at time 0.00 sec\n",
      "Learning Training Data, at time  17.16 sec\n",
      "Testing Positive, at time  34.19 sec\n",
      "Testing Negative, at time  38.66 sec\n",
      "Total Time Cost is  43.13 sec\n",
      "Accuarcy  is:  0.829000\n",
      "Precision is:  0.881529\n",
      "Recall    is:  0.760160\n",
      "F-Score   is:  0.816358\n"
     ]
    }
   ],
   "source": [
    "tpq4, tnq4, fpq4, fnq4 = naive_bayes(0.5,0.5,1,1,laplacesmooth=True,logbool=True,smoothconst=10)"
   ]
  },
  {
   "cell_type": "code",
   "execution_count": 27,
   "metadata": {},
   "outputs": [
    {
     "ename": "TypeError",
     "evalue": "confusionmatrix() takes 4 positional arguments but 5 were given",
     "output_type": "error",
     "traceback": [
      "\u001b[0;31m---------------------------------------------------------------------------\u001b[0m",
      "\u001b[0;31mTypeError\u001b[0m                                 Traceback (most recent call last)",
      "\u001b[0;32m/var/folders/q6/30jjmbqn0gn55mvg8gm200nh0000gn/T/ipykernel_11271/1740988779.py\u001b[0m in \u001b[0;36m<module>\u001b[0;34m\u001b[0m\n\u001b[0;32m----> 1\u001b[0;31m \u001b[0mconfusionmatrix\u001b[0m\u001b[0;34m(\u001b[0m\u001b[0mtpq4\u001b[0m\u001b[0;34m,\u001b[0m \u001b[0mtnq4\u001b[0m\u001b[0;34m,\u001b[0m \u001b[0mfpq4\u001b[0m\u001b[0;34m,\u001b[0m \u001b[0mfnq4\u001b[0m\u001b[0;34m,\u001b[0m\u001b[0;34m'question4'\u001b[0m\u001b[0;34m)\u001b[0m\u001b[0;34m\u001b[0m\u001b[0;34m\u001b[0m\u001b[0m\n\u001b[0m",
      "\u001b[0;31mTypeError\u001b[0m: confusionmatrix() takes 4 positional arguments but 5 were given"
     ]
    }
   ],
   "source": [
    "confusionmatrix(tpq4, tnq4, fpq4, fnq4,'question4')"
   ]
  },
  {
   "cell_type": "markdown",
   "metadata": {},
   "source": [
    "### Q.5 (10 Points) \n",
    "##### In this application (i.e., accurately classifying movie reviews), would you say that it is more important to have high accuracy, high precision, or high recall? Justify your opinion."
   ]
  },
  {
   "cell_type": "markdown",
   "metadata": {},
   "source": [
    "#### Q5 Answer:"
   ]
  },
  {
   "cell_type": "markdown",
   "metadata": {},
   "source": [
    "### Q.6 (18 Points) \n",
    "##### Finally, you will study how the performance of the learned model is affected by training it using an unbalanced dataset (i.e., a dataset with significantly more examples of one of the classes). The classification of new instances, here, should be done by comparing the posterior log-probabilities, log(Pr(yi | Doc)), according to Eq. (5), for both classes. You should use the value of α that resulted in the highest accuracy according to your experiments in the previous questions. You will now conduct an experiment where you use only 10% of the available positive training instances and that uses 50% of the available negative training instances. That is, use load training set(0.1, 0.5). The entire test set should be used. Show the confusion matrix of your trained model, as well as its accuracy, precision, and recall. Compare this model’s performance to the performance (according to these same metrics) of the model trained in question Q.4—that is, a model that was trained under a balanced dataset. Discuss how training under an unbalanced dataset affected each of these performance metrics."
   ]
  },
  {
   "cell_type": "markdown",
   "metadata": {},
   "source": [
    "#### Q6 Answer:"
   ]
  }
 ],
 "metadata": {
  "interpreter": {
   "hash": "aee8b7b246df8f9039afb4144a1f6fd8d2ca17a180786b69acc140d282b71a49"
  },
  "kernelspec": {
   "display_name": "Python 3.10.0 64-bit",
   "language": "python",
   "name": "python3"
  },
  "language_info": {
   "codemirror_mode": {
    "name": "ipython",
    "version": 3
   },
   "file_extension": ".py",
   "mimetype": "text/x-python",
   "name": "python",
   "nbconvert_exporter": "python",
   "pygments_lexer": "ipython3",
   "version": "3.10.0"
  },
  "orig_nbformat": 4
 },
 "nbformat": 4,
 "nbformat_minor": 2
}
