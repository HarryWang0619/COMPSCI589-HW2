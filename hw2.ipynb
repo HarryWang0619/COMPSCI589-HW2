{
 "cells": [
  {
   "cell_type": "markdown",
   "metadata": {},
   "source": [
    "# HW2 Multinomial Bayes Classfier\n",
    "\n",
    "#### Name: Haochen (Harry) Wang"
   ]
  },
  {
   "cell_type": "code",
   "execution_count": 1,
   "metadata": {},
   "outputs": [
    {
     "name": "stderr",
     "output_type": "stream",
     "text": [
      "[nltk_data] Downloading package stopwords to\n",
      "[nltk_data]     /Users/harrywanghc/nltk_data...\n",
      "[nltk_data]   Package stopwords is already up-to-date!\n"
     ]
    }
   ],
   "source": [
    "from run import *\n",
    "import matplotlib.pyplot as plt"
   ]
  },
  {
   "cell_type": "markdown",
   "metadata": {},
   "source": [
    "### Q.1 (18 Points) \n",
    "\n",
    "##### You will first run an experiment to evaluate how the performance of the Naive Bayes algorithm is affected depending on whether (i) you classify instances by computing the pos- terior probability, Pr(yi | Doc), according to the standard equation (Eq. (1)); or (ii) you classify instances by performing the log-transformation trick discussed in class and compare log-probabilities, log(Pr(yi | Doc)), instead of probabilities. Recall, in particular, that estimating the posterior probability using Eq. (1) might cause numerical issues/instability since it requires computing the product of (possibly) hundreds of small terms—which makes this probability estimate rapidly approach zero. To tackle this problem, we often compare not Pr(y1 | Doc) and Pr(y2 | Doc), but the corresponding log-probabilities: log(Pr(y1 | Doc)) and log(Pr(y2 | Doc)). Taking the logarithm of such probabilities transforms the product of hundreds of terms into the sum of hundreds of terms—which avoids numerical issues. Importantly, it does not change which class is more likely according to the trained model. When classifying a new instance, the log-probabilities that should be compared, for each class yi, are as follows:\n",
    "$$ log(Pr(y_i|doc)) = log\\left( Pr(y_i) \\prod_{k=1}^{len(Doc)} Pr(w_k|y_i)\\right) $$\n",
    "$$ log(Pr(y_i|doc)) = log\\left( Pr(y_i) +  \\sum_{k=1}^{len(Doc)} Pr(w_k|y_i)\\right) $$\n",
    "##### In this experiment, you should use 20% of the training set and 20% of the test set; i.e., call the dataset-loading functions by passing 0.2 as their parameters. First, perform the classification of the instances in the test set by comparing posterior probabilities, Pr(yi | Doc), according to Eq. (1), for both classes. Then, report (i) the accuracy of your model; (ii) its precision; (iii) its recall; and (iv) the confusion matrix resulting from this experiment. Now repeat the same experiment above but classify the instances in the test set by comparing log-probabilities, log(Pr(yi | Doc)), according to Eq. (5), for both classes. Report the same quantities as before. Discuss whether classifying instances by computing log-probabilities, instead of probabilities, affects the model’s performance. Assuming that this transformation does have an impact on performance, does it affect more strongly the model’s accuracy, precision, or recall? Why do you think that is the case?"
   ]
  },
  {
   "cell_type": "markdown",
   "metadata": {},
   "source": [
    "#### Q1 Answer:"
   ]
  },
  {
   "cell_type": "code",
   "execution_count": 2,
   "metadata": {},
   "outputs": [
    {
     "name": "stdout",
     "output_type": "stream",
     "text": [
      "Loading Data, at time 0.00 sec\n",
      "Learning Training Data, at time  4.82 sec\n",
      "Testing Positive, at time  6.93 sec\n",
      "Testing Negative, at time  7.34 sec\n",
      "Total Time Cost is  7.72 sec\n",
      "Accuarcy  is:  0.370622\n",
      "Precision is:  0.362732\n",
      "Recall    is:  0.334263\n",
      "F-Score   is:  0.347916\n"
     ]
    }
   ],
   "source": [
    "# Find the value using equation (1), with no log and no laplace smoothing\n",
    "tpq1_1, tnq1_1, fpq1_1, fnq1_1 = naive_bayes(0.2,0.2,0.2,0.2,laplacesmooth=False,logbool=False)"
   ]
  },
  {
   "cell_type": "code",
   "execution_count": 3,
   "metadata": {},
   "outputs": [
    {
     "data": {
      "image/png": "[encoded data removed]",
      "text/plain": [
       "<Figure size 432x288 with 1 Axes>"
      ]
     },
     "metadata": {},
     "output_type": "display_data"
    }
   ],
   "source": [
    "# Now use q1_1 to implement confusion matrix\n",
    "confusionmatrix(tpq1_1, tnq1_1, fpq1_1, fnq1_1,\"Question 1 no log\")"
   ]
  },
  {
   "cell_type": "markdown",
   "metadata": {},
   "source": [
    "Accuarcy  is:  0.387914  \n",
    "Precision  is:  0.384452  \n",
    "Recall       is:  0.348613   \n",
    "\n",
    "Here is the one of the Accuarcy, Precision, Recall and Matrix I have for using equation (1) without using log for the Probability. The value might differ when I export and run the code again."
   ]
  },
  {
   "cell_type": "code",
   "execution_count": 4,
   "metadata": {},
   "outputs": [
    {
     "name": "stdout",
     "output_type": "stream",
     "text": [
      "Loading Data, at time 0.00 sec\n",
      "Learning Training Data, at time  4.76 sec\n",
      "Testing Positive, at time  7.09 sec\n",
      "Testing Negative, at time  7.49 sec\n",
      "Total Time Cost is  7.88 sec\n",
      "Accuarcy  is:  0.572148\n",
      "Precision is:  0.583810\n",
      "Recall    is:  0.495354\n",
      "F-Score   is:  0.535956\n"
     ]
    }
   ],
   "source": [
    "# Repeat the experiment, find the value using equation (5), with no log and no laplace smoothing\n",
    "tpq1_2, tnq1_2, fpq1_2, fnq1_2 = naive_bayes(0.2,0.2,0.2,0.2,laplacesmooth=False,logbool=True)"
   ]
  },
  {
   "cell_type": "code",
   "execution_count": 5,
   "metadata": {},
   "outputs": [
    {
     "data": {
      "image/png": "[encoded data removed]",
      "text/plain": [
       "<Figure size 432x288 with 1 Axes>"
      ]
     },
     "metadata": {},
     "output_type": "display_data"
    }
   ],
   "source": [
    "# Confusion Matrix\n",
    "confusionmatrix(tpq1_2, tnq1_2, fpq1_2, fnq1_2, \"Question 1 with log\")"
   ]
  },
  {
   "cell_type": "markdown",
   "metadata": {},
   "source": [
    "Accuarcy  is:  0.573660  \n",
    "Precision  is:  0.592018  \n",
    "Recall        is:  0.519253  \n",
    "\n",
    "\n",
    "Here is the accuarcy, precision, recall and the confusion matrix after implementing log for probability using equation (5). The data might differ since I will run the code again when exporting."
   ]
  },
  {
   "cell_type": "markdown",
   "metadata": {},
   "source": [
    "The computaion of summing log-probabilities instead of the 'prod_probabilities' increase the accuracy, precision, and recall of the algorithm. \n",
    "\n",
    "Taking accuracy as an example, before using the log-probibiliies, the accuracy was about 0.38. After using lofg for prob, we have accuracy about 0.59, which is a huge improvment: we now correctly classify more than have of the comments (finally better than random!). And for precision and recall, there are also high improvement: from 0.38 to 0.59; from 0.34 to 0.52. \n",
    "\n",
    "I think the reason for this is that in equation (1), we are taking the product of a list of probabilities that are small, for instance, (6.4e-18, 2.3e-28, 1.8e-24, ...) and the length of one comment would generally be more than 100 words (count repeated as one) appeared, so the product would easily exceed the smallest float in python, which is 2.2251e-308. Hence the classifier is inaccurate since there are many zeros. (Also I set the classifier to > and < instead of <= and >=. If the no-log-prob classifier was with <= and >=, the accuracy was about 0.70). After using the log-probilities, we change the product to the sum of log-probilities, and that follows:\n",
    "\n",
    "$$a = b$$\n",
    "$$log(a) = (b) $$\n",
    "\n",
    "So, for probability,\n",
    "\n",
    "$$ Prob(a) < Prob(b) $$\n",
    "$$ log(Prob(a)) < log(Prob(b)) $$\n",
    "\n",
    "And since\n",
    "\n",
    "$$ log(a*b) = log(a)+log(b) $$\n",
    "\n",
    "So we solve the problem of exceeding 2.2251e-308 in equation (1). Hence the equation (5) have a better performance."
   ]
  },
  {
   "cell_type": "markdown",
   "metadata": {},
   "source": [
    "### Q.2 (18 Points) \n",
    "##### An issue with the original Naive Bayes formulation is that if a test instance contains a word that is not present in the vocabulary identified during training, then Pr(word|label) = 0. To mitigate this issue, one solution is to employ Laplace Smoothing. To do so, as discussed in class, we replace the standard way of estimating the probability of a word wk, given a class yi, with the following equation:\n",
    "$$ Pr(w_k|y_i) = \\frac{n(w_k,y_i)+1}{\\sum_{s=1}^{|V|} n(w_s,y_i)+|V|} $$\n",
    "##### More generally, Laplace Smoothing can be performed according to a parametric equation, where instead of adding 1 to the numerator, we adjust the probability of a word belong to a class by adding a user-defined parameter α to the numerator, as follows:\n",
    "$$ Pr(w_k|y_i) = \\frac{n(w_k,y_i)+\\alpha}{\\sum_{s=1}^{|V|} n(w_s,y_i)+\\alpha|V|} $$\n",
    "##### Intuitively, setting α = 0 results in the standard formulation of Naive Bayes—which does not tackle the problem of words that do not appear in the training set. Suppose, alternatively, that we set α = 4. This is equivalent to adding 4 “fake” occurrences of that word to the training set, in order to avoid the zero-frequency problem. Using α = 1000, on the other hand, is equivalent to pretending we have seen that word 1000 times in the training set—even though we may have seen it, say, only 8 times. Although this solves the problem of zero-frequency words, it also strongly biases the model to “believe” that that word appears much more frequently than it actually does; and this could make the predictions made by the system less accurate. For these reasons, although it is important/necessary to perform Laplace Smoothing, we have to carefully pick the value of α that works best for our dataset. Using α = 1 is common, but other values might result in better performance, depending on the dataset being analyzed.\n",
    "##### In this experiment, you should use 20% of the training set and 20% of the test set; i.e., call the dataset-loading functions by passing 0.2 as their parameters. You should first report the confusion matrix, precision, recall, and accuracy of your classifier (when evaluated on the test set) when using α = 1. Now, vary the value of α from 0.0001 to 1000, by multiplying α with 10 each time. That is, try values of α equal to 0.0001, 0.001, 0.01, 0.1, 1.0, 100, and 1000. For each value, record the accuracy of the resulting model when evaluated on the test set. Then, create a plot of the model’s accuracy on the test set (shown on the y-axis) as a function of the value of α (shown on the x-axis). The x-axis should represent α values and use a log scale. Analyze this graph and discuss why do you think the accuracy suffers when α is too high or too low.\n"
   ]
  },
  {
   "cell_type": "markdown",
   "metadata": {},
   "source": [
    "#### Q2 Answer:"
   ]
  },
  {
   "cell_type": "code",
   "execution_count": 6,
   "metadata": {},
   "outputs": [
    {
     "name": "stdout",
     "output_type": "stream",
     "text": [
      "Loading Data, at time 0.00 sec\n",
      "Learning Training Data, at time  4.62 sec\n",
      "Testing Positive, at time  6.89 sec\n",
      "Testing Negative, at time  7.32 sec\n",
      "Total Time Cost is  7.75 sec\n",
      "Accuarcy  is:  0.817056\n",
      "Precision is:  0.856054\n",
      "Recall    is:  0.766975\n",
      "F-Score   is:  0.809070\n"
     ]
    }
   ],
   "source": [
    "tpq2, tnq2, fpq2, fnq2 = naive_bayes(0.2,0.2,0.2,0.2,laplacesmooth=True,logbool=True,smoothconst=1)"
   ]
  },
  {
   "cell_type": "code",
   "execution_count": 7,
   "metadata": {},
   "outputs": [
    {
     "data": {
      "image/png": "[encoded data removed]",
      "text/plain": [
       "<Figure size 432x288 with 1 Axes>"
      ]
     },
     "metadata": {},
     "output_type": "display_data"
    }
   ],
   "source": [
    "confusionmatrix(tpq2, tnq2, fpq2, fnq2,\"Question2 alpha = 1\")"
   ]
  },
  {
   "cell_type": "markdown",
   "metadata": {},
   "source": [
    "Accuarcy  is:  0.812151  \n",
    "Precision  is:  0.868593  \n",
    "Recall        is:  0.738218  \n",
    "\n",
    "We can see with laplace transform with $\\alpha = 1$ , the accuracy, precision and recall all improved with the one without using laplace smoothing: I think that's due to the count in of data in instance/comment with words that's not in the positive/negative 'database' or 'dictionary'. \n",
    "\n",
    "Without Laplace smoothing, when we see a word that never appear in positive dictionary, we just ignore the word, which is incorrect: ignoring the word make the probability of that word 1 (the prob doesn't change after this word); however, what really should happen is we would have a probability count in, and the probability should be close to zero. So laplace smoothing solve the problem of word not in dictionary."
   ]
  },
  {
   "cell_type": "code",
   "execution_count": 19,
   "metadata": {},
   "outputs": [],
   "source": [
    "# Now have fixed data for q2\n",
    "\n",
    "positrainq2, negatrainq2, vocabq2 = load_training_set(0.2,0.2)\n",
    "positestq2, negatestq2 = load_test_set(0.2,0.2)"
   ]
  },
  {
   "cell_type": "code",
   "execution_count": 20,
   "metadata": {},
   "outputs": [],
   "source": [
    "alpha = 0.0001\n",
    "alphalist = []\n",
    "accuracylist = []\n",
    "while alpha <= 1000:\n",
    "    tpq2_2, tnq2_2, fpq2_2, fnq2_2 = fixdatabayes(positrainq2, negatrainq2, positestq2, negatestq2, vocabq2, True, True, smoothconst=alpha)\n",
    "    accuracylist.append(accuracy(tpq2_2, tnq2_2, fpq2_2, fnq2_2))\n",
    "    alphalist.append(alpha)\n",
    "    alpha*=10\n",
    "    #print(alpha)"
   ]
  },
  {
   "cell_type": "code",
   "execution_count": 21,
   "metadata": {},
   "outputs": [
    {
     "data": {
      "text/plain": [
       "<function matplotlib.pyplot.show(close=None, block=None)>"
      ]
     },
     "execution_count": 21,
     "metadata": {},
     "output_type": "execute_result"
    },
    {
     "data": {
      "image/png": "[encoded data removed]",
      "text/plain": [
       "<Figure size 432x288 with 1 Axes>"
      ]
     },
     "metadata": {
      "needs_background": "light"
     },
     "output_type": "display_data"
    }
   ],
   "source": [
    "plt.xscale(\"log\")\n",
    "plt.xlabel(\"Alpha Value\")\n",
    "plt.ylabel(\"Accuracy\")\n",
    "plt.title(\"Accuracy vs. Laplace Smoothing Constant ALPHA\")\n",
    "plt.plot(alphalist,accuracylist)\n",
    "plt.show"
   ]
  },
  {
   "cell_type": "markdown",
   "metadata": {},
   "source": [
    "From the graph, we can find out that it follows the shape of a rollercoaster: is a peak around $\\alpha = 10^1 $ to $10^2$ and the accuracy is low around very small and very big $\\alpha $ value. \n",
    "\n",
    "I think that's because when the $\\alpha $ is too small, the laplace transform's affect would be countless. And when $\\alpha $ is too big, the normal probility's contribution would be decreased. Consider two extreme condition:\n",
    "\n",
    " $$lim_{\\alpha \\to 0}\\frac{n+\\alpha}{N_{sum}+\\alpha |V|} = \\frac{n}{N_{sum}}$$ \n",
    "\n",
    "$$lim_{\\alpha \\to \\infty}\\frac{n+\\alpha}{N_{sum}+\\alpha |V|} = \\frac{1}{|V|}$$ \n",
    "\n",
    "where $n $ is $n(w_k,y_i)$ and $N_{sum} $ is $\\sum_{s=1}^{|V|}n(w_s,y_i)$ \n",
    "\n",
    "What we have in the $\\alpha $ as 1000 and 0.0001 fit in two of those condition above: too big and too small."
   ]
  },
  {
   "cell_type": "markdown",
   "metadata": {},
   "source": [
    "### Q.3 (18 Points) \n",
    "##### Now you will investigate the impact of the training set size on the performance of the model. The classification of new instances, here, should be done by comparing the posterior log-probabilities, log(Pr(yi | Doc)), according to Eq. (5), for both classes. You should use the value of α that resulted in the highest accuracy according to your experiments in the previous question. In this question, you should use 100% of the training set and 100% of the test set; i.e., call the dataset-loading functions by passing 1.0 as their parameters. Then, report (i) the accuracy of your model; (ii) its precision; (iii) its recall; and (iv) the confusion matrix resulting from this experiment.\n"
   ]
  },
  {
   "cell_type": "markdown",
   "metadata": {},
   "source": [
    "#### Q3 Answer:"
   ]
  },
  {
   "cell_type": "code",
   "execution_count": 11,
   "metadata": {},
   "outputs": [
    {
     "name": "stdout",
     "output_type": "stream",
     "text": [
      "Loading Data, at time 0.00 sec\n",
      "Learning Training Data, at time  40.89 sec\n",
      "Testing Positive, at time  119.61 sec\n",
      "Testing Negative, at time  129.43 sec\n",
      "Total Time Cost is  138.25 sec\n",
      "Accuarcy  is:  0.839720\n",
      "Precision is:  0.870194\n",
      "Recall    is:  0.798560\n",
      "F-Score   is:  0.832840\n"
     ]
    }
   ],
   "source": [
    "tpq3, tnq3, fpq3, fnq3 = naive_bayes(1,1,1,1,laplacesmooth=True,logbool=True,smoothconst=10)"
   ]
  },
  {
   "cell_type": "code",
   "execution_count": 12,
   "metadata": {},
   "outputs": [
    {
     "data": {
      "image/png": "[encoded data removed]",
      "text/plain": [
       "<Figure size 432x288 with 1 Axes>"
      ]
     },
     "metadata": {},
     "output_type": "display_data"
    }
   ],
   "source": [
    "confusionmatrix(tpq3, tnq3, fpq3, fnq3,'question3')"
   ]
  },
  {
   "cell_type": "markdown",
   "metadata": {},
   "source": [
    "Accuarcy  is:  0.839720  \n",
    "Precision  is:  0.870194  \n",
    "Recall        is:  0.798560  \n",
    "F-Score     is:  0.832840  \n",
    "\n",
    "The data might change when I run everything again when export the document."
   ]
  },
  {
   "cell_type": "markdown",
   "metadata": {},
   "source": [
    "### Q.4 (18 Points) \n",
    "##### Now repeat the experiment above but use only 50% of the training instances; that is, load the training set by calling load training set(0.5, 0.5). The entire test set should be used. Report the same quantities as in the previous question. Discuss whether using such a smaller training set had any impact on the performance your learned model. Analyze the confusion matrices (of this question and the previous one) and discuss whether one particular class was more affected by changing the size of the training set."
   ]
  },
  {
   "cell_type": "markdown",
   "metadata": {},
   "source": [
    "#### Q4 Answer:"
   ]
  },
  {
   "cell_type": "code",
   "execution_count": 13,
   "metadata": {},
   "outputs": [
    {
     "name": "stdout",
     "output_type": "stream",
     "text": [
      "Loading Data, at time 0.00 sec\n",
      "Learning Training Data, at time  17.64 sec\n",
      "Testing Positive, at time  35.01 sec\n",
      "Testing Negative, at time  39.46 sec\n",
      "Total Time Cost is  43.88 sec\n",
      "Accuarcy  is:  0.838400\n",
      "Precision is:  0.870403\n",
      "Recall    is:  0.795200\n",
      "F-Score   is:  0.831104\n"
     ]
    }
   ],
   "source": [
    "tpq4, tnq4, fpq4, fnq4 = naive_bayes(0.5,0.5,1,1,laplacesmooth=True,logbool=True,smoothconst=10)"
   ]
  },
  {
   "cell_type": "code",
   "execution_count": 14,
   "metadata": {},
   "outputs": [
    {
     "data": {
      "image/png": "[encoded data removed]",
      "text/plain": [
       "<Figure size 432x288 with 1 Axes>"
      ]
     },
     "metadata": {},
     "output_type": "display_data"
    }
   ],
   "source": [
    "confusionmatrix(tpq4, tnq4, fpq4, fnq4,'question4')"
   ]
  },
  {
   "cell_type": "markdown",
   "metadata": {},
   "source": [
    "For Question 4, \n",
    "\n",
    "\n",
    "Accuarcy  is:  0.832160  \n",
    "Precision  is:  0.875611  \n",
    "Recall        is:  0.774320  re\n",
    "\n",
    "as we can compare to question 3, \n",
    "\n",
    "\n",
    "Accuarcy  is:  0.839720  \n",
    "Precision  is:  0.870194  \n",
    "Recall        is:  0.798560  \n",
    "\n",
    "\n",
    "We can find out that the A,P,R (Accuarcy, Precision, Recall) for 1.0 testing data and 0.5 testing data is actually very close, except for the recall: \n",
    "\n",
    "the recall of question 4 drop from 0.799 to 9.774. Which is due to the increase in falseNegative.\n",
    "\n",
    "But overall, as we can see, there isn't a greate change in the result. I think that would be due to the information gain ratio to the increase in training set. Think about len(vocab) as kind of info gain, the graph of \n",
    "\n",
    "$$[len-vocab-gain]\\  vs. \\  [trainingset-loaded]$$\n",
    "\n",
    "what we should have would be a log graph, when we load training set from from 0.0001 to 0.001, we would have a really rapid len(vocab) gain, and as the training-set-portion getting larger, the increase in the len(vocab) decreases. Hence a 0.5 training & a 1.0 training wouldn't have a big difference compare to 0.01 training & a 0.3 training. \n",
    "\n",
    "As shown in the graph below. \n"
   ]
  },
  {
   "cell_type": "code",
   "execution_count": 15,
   "metadata": {},
   "outputs": [],
   "source": [
    "# Code reference\n",
    "trainportion = 0.0001\n",
    "portionlist =[]\n",
    "voclist = []\n",
    "while trainportion<=0.7:\n",
    "    voc = load_training_set(trainportion,trainportion)[2]\n",
    "    voclist.append(len(voc))\n",
    "    portionlist.append(trainportion)\n",
    "    trainportion*=1.5"
   ]
  },
  {
   "cell_type": "code",
   "execution_count": 16,
   "metadata": {},
   "outputs": [
    {
     "data": {
      "image/png": "[encoded data removed]",
      "text/plain": [
       "<Figure size 432x288 with 1 Axes>"
      ]
     },
     "metadata": {
      "needs_background": "light"
     },
     "output_type": "display_data"
    }
   ],
   "source": [
    "plt.xlabel(\"training Portion\")\n",
    "plt.ylabel(\"len(Vocab)/VocabGain\")\n",
    "plt.title(\"len(vocab) vs. train_portion\")\n",
    "plt.plot(portionlist,voclist)\n",
    "plt.show()"
   ]
  },
  {
   "cell_type": "markdown",
   "metadata": {},
   "source": [
    "### Q.5 (10 Points) \n",
    "##### In this application (i.e., accurately classifying movie reviews), would you say that it is more important to have high accuracy, high precision, or high recall? Justify your opinion."
   ]
  },
  {
   "cell_type": "markdown",
   "metadata": {},
   "source": [
    "#### Q5 Answer:\n",
    "\n",
    "To be honest, I think for the application of classifying movie reviews, it doesn't matter a lot with the accuracy, since it's unlike classifying tumor, covid or other more significant issues. \n",
    "\n",
    "But try to consider three:  \n",
    "High Accuracy: Find out how's the classification overall  \n",
    "High Precision: Find out the how many percent of predict+ is real+   \n",
    "High Recall: Find out the how many percent of real+ is predicted as +  \n",
    "\n",
    "Since I suppose one of the application of the imdb comment is to find out whether like the movie or not, so they can further recommend other movie to users. So if we know a certain user A is positive about movie X, we can still recommend type X or other Movie, but for certain user that's negative about movie X, we don't want to give him type X movie.\n",
    "\n",
    "So what's important here is to don't let true negative see movie X again. So we'd like a 'higher recall if consider negative_comment as positive', hence that would be higher precision in normal 'degree of freedom'.\n",
    "\n",
    "Or we can suppose the application as show positive review in the front (The director pay us 1 million dollar), we don't want to show the falsePositive review/comment in the front. So here, also a higher precision would be better."
   ]
  },
  {
   "cell_type": "markdown",
   "metadata": {},
   "source": [
    "### Q.6 (18 Points) \n",
    "##### Finally, you will study how the performance of the learned model is affected by training it using an unbalanced dataset (i.e., a dataset with significantly more examples of one of the classes). The classification of new instances, here, should be done by comparing the posterior log-probabilities, log(Pr(yi | Doc)), according to Eq. (5), for both classes. You should use the value of α that resulted in the highest accuracy according to your experiments in the previous questions. You will now conduct an experiment where you use only 10% of the available positive training instances and that uses 50% of the available negative training instances. That is, use load training set(0.1, 0.5). The entire test set should be used. Show the confusion matrix of your trained model, as well as its accuracy, precision, and recall. Compare this model’s performance to the performance (according to these same metrics) of the model trained in question Q.4—that is, a model that was trained under a balanced dataset. Discuss how training under an unbalanced dataset affected each of these performance metrics."
   ]
  },
  {
   "cell_type": "markdown",
   "metadata": {},
   "source": [
    "#### Q6 Answer:"
   ]
  },
  {
   "cell_type": "code",
   "execution_count": 17,
   "metadata": {},
   "outputs": [
    {
     "name": "stdout",
     "output_type": "stream",
     "text": [
      "Loading Data, at time 0.00 sec\n",
      "Learning Training Data, at time  11.68 sec\n",
      "Testing Positive, at time  22.60 sec\n",
      "Testing Negative, at time  25.47 sec\n",
      "Total Time Cost is  28.28 sec\n",
      "Accuarcy  is:  0.667440\n",
      "Precision is:  0.878071\n",
      "Recall    is:  0.388880\n",
      "F-Score   is:  0.539033\n"
     ]
    }
   ],
   "source": [
    "tpq6, tnq6, fpq6, fnq6 = naive_bayes(0.1,0.5,1,1,laplacesmooth=True,logbool=True,smoothconst=1)"
   ]
  },
  {
   "cell_type": "code",
   "execution_count": 18,
   "metadata": {},
   "outputs": [
    {
     "data": {
      "image/png": "[encoded data removed]",
      "text/plain": [
       "<Figure size 432x288 with 1 Axes>"
      ]
     },
     "metadata": {},
     "output_type": "display_data"
    }
   ],
   "source": [
    "confusionmatrix(tpq6, tnq6, fpq6, fnq6, \"question 6\")"
   ]
  },
  {
   "cell_type": "markdown",
   "metadata": {},
   "source": [
    "(The data might be different when running again while exporting)\n",
    "\n",
    "Accuarcy  is:  0.667440  \n",
    "Precision  is:  0.878071  \n",
    "Recall        is:  0.388880  \n",
    "F-Score    is:  0.539033  \n",
    "\n",
    "The unbalanced training dataset create a very biased result compared to what we have in question 4: We have a very low recall and high precision. \n",
    "\n",
    "Consider (0.1 postrain, 0.5 neg_train) as example, we are predicting more of the testing as negative because the lack of pos_train data would result in lack of pos_train_dictionary. Hence there would be many word get 'laplace smoothed' because it nevered appeared in the dictionary, and those 'smoothed' word might be a 'high-frequency pos word'. So that result lots of the realpositive data predicted as negative. So does the real negative data, more of them are predicted as negative. So that make the precision really high. \n",
    "\n",
    "Also, when I started with this question, I leave $\\alpha = 10 $ as the questions above, however, that's very bad decision because that make the prediction in positve vey close to zero, which is more biased, and accuracy end around 50%. That's because the vocablist is very large and with smooth constant 10, that make the original n and N_sum part very neglectable. \n",
    " \n",
    " $\\frac{n+\\alpha}{N_{sum}+\\alpha |V|} = \\frac{1}{|V|}$, when $\\alpha |V| >> N_{sum}$ \n",
    "\n",
    "$n $ is $n(w_k,y_i)$ and $N_{sum} $ is $\\sum_{s=1}^{|V|}n(w_s,y_i)$\n",
    "\n",
    "So in this case, all pos_train probability factor become really close to the laplace smoothing factor, hence, result in worse accuracy."
   ]
  },
  {
   "cell_type": "markdown",
   "metadata": {},
   "source": [
    "#### APPENDIX: utils.py"
   ]
  },
  {
   "cell_type": "code",
   "execution_count": null,
   "metadata": {},
   "outputs": [],
   "source": [
    "from cgi import test\n",
    "import re\n",
    "import os\n",
    "import glob\n",
    "import random\n",
    "from nltk.corpus import stopwords\n",
    "import nltk\n",
    "import string\n",
    "from collections import Counter\n",
    "from pprint import pprint\n",
    "import math\n",
    "import numpy as np\n",
    "import matplotlib.pyplot as plt\n",
    "\n",
    "from sympy import true\n",
    "\n",
    "REPLACE_NO_SPACE = re.compile(\"[._–;:!`¦\\'?,\\\"()\\[\\]]\") # add one '–'\n",
    "REPLACE_WITH_SPACE = re.compile(\"(<br\\s*/><br\\s*/>)|(\\-)|(\\/)\")\n",
    "nltk.download('stopwords')  \n",
    "\n",
    "def preprocess_text(text):\n",
    "\tstop_words = set(stopwords.words('english'))\n",
    "\ttext = REPLACE_NO_SPACE.sub(\"\", text)\n",
    "\ttext = REPLACE_WITH_SPACE.sub(\" \", text)\n",
    "\ttext = re.sub(r'\\d+', '', text)\n",
    "\ttext = text.lower()\n",
    "\ttext=\"\".join([i for i in text if i not in string.punctuation])\n",
    "\twords = text.split()\n",
    "\treturn [w for w in words if w not in stop_words]\n",
    "\n",
    "def load_training_set(percentage_positives, percentage_negatives):\n",
    "\tvocab = set() # I returned list later\n",
    "\tpositive_instances = []\n",
    "\tnegative_instances = []\n",
    "\tfor filename in glob.glob('train/pos/*.txt'):\n",
    "\t\tif random.random() > percentage_positives:\n",
    "\t\t\tcontinue\n",
    "\t\twith open(os.path.join(os.getcwd(), filename), 'r', encoding=\"utf-8\") as f:\n",
    "\t\t\tcontents = f.read()\n",
    "\t\t\tcontents = preprocess_text(contents)\n",
    "\t\t\tpositive_instances.append(contents)\n",
    "\t\t\tvocab = vocab.union(set(contents))\n",
    "\tfor filename in glob.glob('train/neg/*.txt'):\n",
    "\t\tif random.random() > percentage_negatives:\n",
    "\t\t\tcontinue\n",
    "\t\twith open(os.path.join(os.getcwd(), filename), 'r', encoding=\"utf-8\") as f:\n",
    "\t\t\tcontents = f.read()\n",
    "\t\t\tcontents = preprocess_text(contents)\n",
    "\t\t\tnegative_instances.append(contents)\n",
    "\t\t\tvocab = vocab.union(set(contents))\n",
    "\treturn positive_instances, negative_instances, list(vocab)\n",
    "\n",
    "def load_test_set(percentage_positives, percentage_negatives):\n",
    "\tpositive_instances = []\n",
    "\tnegative_instances = []\n",
    "\tfor filename in glob.glob('test/pos/*.txt'):\n",
    "\t\t#print(filename)\n",
    "\t\tif random.random() > percentage_positives:\n",
    "\t\t\tcontinue\n",
    "\t\twith open(os.path.join(os.getcwd(), filename), 'r', encoding=\"utf-8\") as f:\n",
    "\t\t\tcontents = f.read()\n",
    "\t\t\tcontents = preprocess_text(contents)\n",
    "\t\t\tpositive_instances.append(contents)\n",
    "\tfor filename in glob.glob('test/neg/*.txt'):\n",
    "\t\tif random.random() > percentage_negatives:\n",
    "\t\t\tcontinue\n",
    "\t\twith open(os.path.join(os.getcwd(), filename), 'r', encoding=\"utf-8\") as f:\n",
    "\t\t\tcontents = f.read()\n",
    "\t\t\tcontents = preprocess_text(contents)\n",
    "\t\t\tnegative_instances.append(contents)\n",
    "\treturn positive_instances, negative_instances\n",
    "\n",
    "def train(positivedata, negativedata):\n",
    "    posidict = dict(Counter(sum(positivedata,[])))\n",
    "    # print(len(sum(positivedata,[])))\n",
    "    # print(len(sum(negativedata,[])))\n",
    "    negadict = dict(Counter(sum(negativedata,[])))  \n",
    "    return posidict, negadict\n",
    "\n",
    "\n",
    "def probilityof(positivetrain, negativetrain, positivedict, negativedict, vocab, category: string, instance, log: bool, laplacesmooth: bool, smoothconstant = 1):\n",
    "\n",
    "    posinum = len(positivetrain)\n",
    "    neganum = len(negativetrain)\n",
    "    suminstance = neganum+posinum   \n",
    "\n",
    "    if category == \"posi\" or category == \"positive\":\n",
    "        num = posinum\n",
    "        trainset = positivetrain\n",
    "        dictuse = positivedict\n",
    "    else:\n",
    "        num = neganum\n",
    "        trainset = negativetrain\n",
    "        dictuse = negativedict\n",
    "\n",
    "    plist = []\n",
    "    p0 = num/suminstance\n",
    "    plist.append(p0)\n",
    "    denominator = sum([len(i) for i in trainset])\n",
    "    # print(sum(dictuse.values())-denominator)\n",
    "    vsize = len(vocab)\n",
    "    # vsize = len(dictuse)\n",
    "\n",
    "    for i in instance:\n",
    "        if (not laplacesmooth):\n",
    "            if i in dictuse:\n",
    "                probinstance = (dictuse[i]/denominator)\n",
    "            else: \n",
    "                continue\n",
    "        else: # Smooth\n",
    "            if i in dictuse:\n",
    "                probinstance = ((dictuse[i]+smoothconstant)/(denominator+smoothconstant*vsize))\n",
    "            else: \n",
    "                probinstance = ((smoothconstant)/(smoothconstant*vsize))\n",
    "        plist.append(probinstance)\n",
    "\n",
    "    if log:\n",
    "        loglist = list(map(math.log10, plist))\n",
    "        return sum(loglist)\n",
    "    \n",
    "    # if 0 not in plist:\n",
    "    #     print(\"prob is not zero\")\n",
    "\n",
    "    return math.prod(plist)\n",
    "\n",
    "def toCounterDictList(trainingset):\n",
    "\treturn [dict(Counter(i)) for i in trainingset]\n",
    "\n",
    "def accuracy(truePosi, trueNega, falsePosi, falseNega): # Count of all four\n",
    "\treturn (truePosi+trueNega)/(truePosi+trueNega+falseNega+falsePosi)\n",
    "\n",
    "def precision(truePosi, trueNega, falsePosi, falseNega):\n",
    "\tif (truePosi+falsePosi) == 0:\n",
    "\t\treturn 0\n",
    "\tpreposi = truePosi/(truePosi+falsePosi)\n",
    "\tprenega = trueNega/(trueNega+falseNega)\n",
    "\treturn preposi\n",
    "\n",
    "def recall(truePosi, trueNega, falsePosi, falseNega):\n",
    "\tif (truePosi+falseNega)== 0:\n",
    "\t\treturn 0\n",
    "\trecposi = truePosi/(truePosi+falseNega)\n",
    "\trecnega = trueNega/(trueNega+falsePosi)\n",
    "\treturn recposi\n",
    "\n",
    "def fscore(truePosi, trueNega, falsePosi, falseNega, beta: 1):\n",
    "\tpre = precision(truePosi, trueNega, falsePosi, falseNega)\n",
    "\trec = recall(truePosi, trueNega, falsePosi, falseNega)\n",
    "\tif (pre*(beta**2)+rec) == 0:\n",
    "\t\treturn 0\n",
    "\tf = (1+beta**2)*((pre*rec)/(pre*(beta**2)+rec))\n",
    "\treturn f\n",
    "\n",
    "def confusionmatrix(truePosi, trueNega, falsePosi, falseNega, title=\"\"):\n",
    "\tfig = plt.figure()\n",
    "\tplt.title(title)\n",
    "\tcol_labels = ['Predict:+', 'Predict:-']\n",
    "\trow_labels = ['Real:+', 'Real:-']\n",
    "\ttable_vals = [[truePosi, falseNega], [falsePosi, trueNega]]\n",
    "\tthe_table = plt.table(cellText=table_vals,\n",
    "                      colWidths=[0.1] * 3,\n",
    "                      rowLabels=row_labels,\n",
    "                      colLabels=col_labels,\n",
    "                      loc='center')\n",
    "\tthe_table.auto_set_font_size(False)\n",
    "\tthe_table.set_fontsize(24)\n",
    "\tthe_table.scale(4, 4)\n",
    "\tplt.tick_params(axis='x', which='both', bottom=False, top=False, labelbottom=False)\n",
    "\tplt.tick_params(axis='y', which='both', right=False, left=False, labelleft=False)\n",
    "\n",
    "\tfor pos in ['right','top','bottom','left']:\n",
    "\t\tplt.gca().spines[pos].set_visible(False)\n",
    "\n",
    "\tplt.show()\t\n",
    "\n",
    "\treturn \n"
   ]
  },
  {
   "cell_type": "markdown",
   "metadata": {},
   "source": [
    "#### APPENDIX: run.py"
   ]
  },
  {
   "cell_type": "code",
   "execution_count": null,
   "metadata": {},
   "outputs": [],
   "source": [
    "from utils import *\n",
    "from pprint import pprint\n",
    "import time\n",
    "\n",
    "def naive_bayes(ptrain:float=0.1,ntrain:float=0.1,ptest:float=0.1,ntest:test=0.1,laplacesmooth:bool=True, logbool:bool=True, smoothconst:float=1):\n",
    "\t\n",
    "\tt0 = time.time()\n",
    "\n",
    "\tpercentage_positive_instances_train = ptrain\n",
    "\tpercentage_negative_instances_train = ntrain\n",
    "\n",
    "\tpercentage_positive_instances_test  = ptest\n",
    "\tpercentage_negative_instances_test  = ntest\n",
    "\n",
    "\tprint(\"Loading Data, at time 0.00 sec\")\n",
    "\n",
    "\t(pos_train, neg_train, vocab) = load_training_set(percentage_positive_instances_train, percentage_negative_instances_train)\n",
    "\t(pos_test,  neg_test)         = load_test_set(percentage_positive_instances_test, percentage_negative_instances_test)\n",
    "\n",
    "\t# print(\"Number of positive training instances:\", len(pos_train))\n",
    "\t# print(\"Number of negative training instances:\", len(neg_train))\n",
    "\t# print(\"Number of positive test instances:\", len(pos_test))\n",
    "\t# print(\"Number of negative test instances:\", len(neg_test))\n",
    "\n",
    "\twith open('vocab.txt','w') as f: # modified so it don't print a empty line in the last.\n",
    "\t\tf.write(\"%s\" % vocab[0])\n",
    "\t\tfor word in vocab[1:]:\n",
    "\t\t\tf.write(\"\\n%s\" % word)\n",
    "\t# print(\"Vocabulary (training set):\", len(vocab))\n",
    "\t\n",
    "\tprint(\"Learning Training Data, at time \", format((time.time()-t0),\".2f\"), \"sec\")\n",
    "\n",
    "\tposidict, negadict = train(pos_train, neg_train)\n",
    "\t\n",
    "\tpositest = toCounterDictList(pos_test)\n",
    "\tnegatest = toCounterDictList(neg_test)\n",
    "\n",
    "\ttruePositive = 0\n",
    "\ttrueNegative = 0\n",
    "\tfalsePositive = 0\n",
    "\tfalseNegative = 0\n",
    "\n",
    "\t# i = 0\n",
    "\tprint(\"Testing Positive, at time \", format((time.time()-t0),\".2f\"), \"sec\")\n",
    "\tfor posiinstance in positest:\n",
    "\t\tppositive = probilityof(pos_train,neg_train,posidict,negadict,vocab,'positive',posiinstance,logbool,laplacesmooth,smoothconst)\n",
    "\t\tpnegative = probilityof(pos_train,neg_train,posidict,negadict,vocab,'negative',posiinstance,logbool,laplacesmooth,smoothconst)\n",
    "\t\tif ppositive > pnegative:\n",
    "\t\t\ttruePositive += 1\n",
    "\t\telse:\n",
    "\t\t\tfalseNegative += 1\n",
    "\n",
    "\tprint(\"Testing Negative, at time \", format((time.time()-t0),\".2f\"), \"sec\")\n",
    "\tfor negainstance in negatest:\n",
    "\t\tppositive = probilityof(pos_train,neg_train,posidict,negadict,vocab,'positive',negainstance,logbool,laplacesmooth,smoothconst)\n",
    "\t\tpnegative = probilityof(pos_train,neg_train,posidict,negadict,vocab,'negative',negainstance,logbool,laplacesmooth,smoothconst)\n",
    "\t\tif ppositive < pnegative:\n",
    "\t\t\ttrueNegative += 1\n",
    "\t\telse:\n",
    "\t\t\tfalsePositive += 1\n",
    "\t\n",
    "\tacc = accuracy(truePositive,trueNegative,falsePositive,falseNegative)\n",
    "\tpre = precision(truePositive,trueNegative,falsePositive,falseNegative)\n",
    "\trec = recall(truePositive,trueNegative,falsePositive,falseNegative)\n",
    "\tf = fscore(truePositive,trueNegative,falsePositive,falseNegative,1)\n",
    "\n",
    "\tprint(\"Total Time Cost is \", format((time.time()-t0),\".2f\"), \"sec\")\n",
    "\tprint(\"Accuarcy  is: \", format(acc,\".6f\"))\n",
    "\tprint(\"Precision is: \",format(pre,\".6f\"))\n",
    "\tprint(\"Recall    is: \",format(rec,\".6f\"))\n",
    "\tprint(\"F-Score   is: \", format(f,\".6f\"))\n",
    "\n",
    "\treturn truePositive,trueNegative,falsePositive,falseNegative\n",
    "\n",
    "def fixdatabayes(pos_train, neg_train, pos_test, neg_test, vocab, laplacesmooth:bool=True, logbool:bool=True, smoothconst:float=1):\n",
    "\n",
    "\tt0 = time.time()\n",
    "\t\n",
    "\t# print(\"Learning Training Data, at time 0.00 sec\")\n",
    "\n",
    "\tposidict, negadict = train(pos_train, neg_train)\n",
    "\t\n",
    "\tpositest = toCounterDictList(pos_test)\n",
    "\tnegatest = toCounterDictList(neg_test)\n",
    "\n",
    "\ttruePositive = 0\n",
    "\ttrueNegative = 0\n",
    "\tfalsePositive = 0\n",
    "\tfalseNegative = 0\n",
    "\n",
    "\t# i = 0\n",
    "\t# print(\"Testing Positive, at time \", format((time.time()-t0),\".2f\"), \"sec\")\n",
    "\tfor posiinstance in positest:\n",
    "\t\tppositive = probilityof(pos_train,neg_train,posidict,negadict,vocab,'positive',posiinstance,logbool,laplacesmooth,smoothconst)\n",
    "\t\tpnegative = probilityof(pos_train,neg_train,posidict,negadict,vocab,'negative',posiinstance,logbool,laplacesmooth,smoothconst)\n",
    "\t\tif ppositive > pnegative:\n",
    "\t\t\ttruePositive += 1\n",
    "\t\telse:\n",
    "\t\t\tfalseNegative += 1\n",
    "\n",
    "\t# print(\"Testing Negative, at time \", format((time.time()-t0),\".2f\"), \"sec\")\n",
    "\tfor negainstance in negatest:\n",
    "\t\tppositive = probilityof(pos_train,neg_train,posidict,negadict,vocab,'positive',negainstance,logbool,laplacesmooth,smoothconst)\n",
    "\t\tpnegative = probilityof(pos_train,neg_train,posidict,negadict,vocab,'negative',negainstance,logbool,laplacesmooth,smoothconst)\n",
    "\t\tif ppositive < pnegative:\n",
    "\t\t\ttrueNegative += 1\n",
    "\t\telse:\n",
    "\t\t\tfalsePositive += 1\n",
    "\t\n",
    "\tacc = accuracy(truePositive,trueNegative,falsePositive,falseNegative)\n",
    "\tpre = precision(truePositive,trueNegative,falsePositive,falseNegative)\n",
    "\trec = recall(truePositive,trueNegative,falsePositive,falseNegative)\n",
    "\tf = fscore(truePositive,trueNegative,falsePositive,falseNegative,1)\n",
    "\n",
    "\t# print(\"Total Time Cost is \", format((time.time()-t0),\".2f\"), \"sec\")\n",
    "\t# print(\"Accuarcy  is: \", format(acc,\".6f\"))\n",
    "\t# print(\"Precision is: \",format(pre,\".6f\"))\n",
    "\t# print(\"Recall    is: \",format(rec,\".6f\"))\n",
    "\t# print(\"F-Score   is: \", format(f,\".6f\"))\n",
    "\n",
    "\treturn truePositive,trueNegative,falsePositive,falseNegative\n",
    "\n",
    "\n",
    "if __name__==\"__main__\":\n",
    "\tnaive_bayes(0.1,0.1,0.03,0.03)\n",
    "\n"
   ]
  }
 ],
 "metadata": {
  "interpreter": {
   "hash": "aee8b7b246df8f9039afb4144a1f6fd8d2ca17a180786b69acc140d282b71a49"
  },
  "kernelspec": {
   "display_name": "Python 3.10.0 64-bit",
   "language": "python",
   "name": "python3"
  },
  "language_info": {
   "codemirror_mode": {
    "name": "ipython",
    "version": 3
   },
   "file_extension": ".py",
   "mimetype": "text/x-python",
   "name": "python",
   "nbconvert_exporter": "python",
   "pygments_lexer": "ipython3",
   "version": "3.10.0"
  },
  "orig_nbformat": 4
 },
 "nbformat": 4,
 "nbformat_minor": 2
}
