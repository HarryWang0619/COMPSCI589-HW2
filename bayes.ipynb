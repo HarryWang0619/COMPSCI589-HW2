{
 "cells": [
  {
   "cell_type": "code",
   "execution_count": 1,
   "metadata": {},
   "outputs": [
    {
     "name": "stderr",
     "output_type": "stream",
     "text": [
      "[nltk_data] Downloading package stopwords to\n",
      "[nltk_data]     /Users/harrywanghc/nltk_data...\n",
      "[nltk_data]   Package stopwords is already up-to-date!\n"
     ]
    }
   ],
   "source": [
    "from cgi import test\n",
    "import re\n",
    "import os\n",
    "import glob\n",
    "import random\n",
    "from nltk.corpus import stopwords\n",
    "import nltk\n",
    "import string\n",
    "from pprint import pprint\n",
    "from utils import *\n",
    "from collections import Counter\n",
    "import math\n",
    "from run import *"
   ]
  },
  {
   "cell_type": "code",
   "execution_count": 2,
   "metadata": {},
   "outputs": [],
   "source": [
    "positrain, negatrain, voc = load_training_set(0.01,0.01)"
   ]
  },
  {
   "cell_type": "code",
   "execution_count": 3,
   "metadata": {},
   "outputs": [
    {
     "name": "stdout",
     "output_type": "stream",
     "text": [
      "122\n",
      "128\n",
      "8654\n"
     ]
    }
   ],
   "source": [
    "posinum = len(positrain)\n",
    "neganum = len(negatrain)\n",
    "suminstance = neganum+posinum\n",
    "print(len(negatrain))\n",
    "print(len(positrain))\n",
    "print(len(voc))"
   ]
  },
  {
   "cell_type": "code",
   "execution_count": 4,
   "metadata": {},
   "outputs": [
    {
     "data": {
      "text/plain": [
       "17337"
      ]
     },
     "execution_count": 4,
     "metadata": {},
     "output_type": "execute_result"
    }
   ],
   "source": [
    "sum([len(i) for i in positrain])"
   ]
  },
  {
   "cell_type": "code",
   "execution_count": 5,
   "metadata": {},
   "outputs": [],
   "source": [
    "countdict =  [dict(Counter(i)) for i in positrain]\n",
    "testinstance = countdict[11]"
   ]
  },
  {
   "cell_type": "code",
   "execution_count": 6,
   "metadata": {},
   "outputs": [
    {
     "name": "stdout",
     "output_type": "stream",
     "text": [
      "17337\n",
      "13980\n"
     ]
    }
   ],
   "source": [
    "def train(positivedata, negativedata):\n",
    "    posidict = dict(Counter(sum(positivedata,[])))\n",
    "    print(len(sum(positivedata,[])))\n",
    "    print(len(sum(negativedata,[])))\n",
    "    negadict = dict(Counter(sum(negativedata,[])))  \n",
    "    return posidict, negadict\n",
    "\n",
    "posidict, negadict = train(positrain, negatrain)"
   ]
  },
  {
   "cell_type": "code",
   "execution_count": 7,
   "metadata": {},
   "outputs": [],
   "source": [
    "\n",
    "def probilityof(positivetrain, negativetrain, positivedict, negativedict, category: string, instance, log: bool, laplacesmooth: bool, smoothconstant = 1):\n",
    "\n",
    "    posinum = len(positivetrain)\n",
    "    neganum = len(negativetrain)\n",
    "    suminstance = neganum+posinum   \n",
    "\n",
    "    if category == \"posi\" or category == \"positive\":\n",
    "        num = posinum\n",
    "        trainset = positivetrain\n",
    "        dictuse = positivedict\n",
    "    else:\n",
    "        num = neganum\n",
    "        trainset = negativetrain\n",
    "        dictuse = negativedict\n",
    "\n",
    "    plist = []\n",
    "    p0 = num/suminstance\n",
    "    plist.append(p0)\n",
    "    denominator = sum([len(i) for i in trainset])\n",
    "    # print(sum(dictuse.values())-denominator)\n",
    "    vsize = len(positivedict)+len(negativedict)\n",
    "\n",
    "    for i in instance:\n",
    "        if (not laplacesmooth):\n",
    "            if i in dictuse:\n",
    "                probinstance = (dictuse[i]/denominator)\n",
    "            else: \n",
    "                continue\n",
    "        else: # Smooth\n",
    "            if i in dictuse:\n",
    "                probinstance = ((dictuse[i]+smoothconstant)/(denominator+smoothconstant*vsize))\n",
    "            else: \n",
    "                probinstance = ((smoothconstant)/(smoothconstant*vsize))\n",
    "        plist.append(probinstance)\n",
    "\n",
    "    if log:\n",
    "        loglist = list(map(math.log10, plist))\n",
    "        return sum(loglist)\n",
    "    \n",
    "    # if 0 not in plist:\n",
    "    #     print(\"prob is not zero\")\n",
    "\n",
    "    return math.prod(plist)"
   ]
  },
  {
   "cell_type": "code",
   "execution_count": 8,
   "metadata": {},
   "outputs": [
    {
     "name": "stdout",
     "output_type": "stream",
     "text": [
      "-697.4255932814935\n",
      "-456.2683242986741\n"
     ]
    }
   ],
   "source": [
    "pposi = probilityof(positrain,negatrain,posidict,negadict,'posi',testinstance,True,False)\n",
    "pnega = probilityof(positrain,negatrain,posidict,negadict,'nega',testinstance,True,False)\n",
    "\n",
    "print(pposi)\n",
    "print(pnega)"
   ]
  },
  {
   "cell_type": "code",
   "execution_count": 9,
   "metadata": {},
   "outputs": [
    {
     "name": "stdout",
     "output_type": "stream",
     "text": [
      "Loading Data, at time 0.00 sec\n",
      "Learning Training Data, at time  4.89 sec\n",
      "Testing Positive, at time  7.02 sec\n",
      "Testing Negative, at time  7.42 sec\n",
      "Total Time Cost is  7.82 sec\n",
      "Accuarcy  is:  0.375596\n",
      "Precision is:  0.362401\n",
      "Recall    is:  0.328958\n",
      "F-Score   is:  0.344871\n"
     ]
    }
   ],
   "source": [
    "tp, tn, fp, fn = naive_bayes(0.2,0.2,0.2,0.2,laplacesmooth=False,logbool=False)"
   ]
  },
  {
   "cell_type": "code",
   "execution_count": 10,
   "metadata": {},
   "outputs": [
    {
     "data": {
      "text/plain": [
       "array([[ 827, 1063],\n",
       "       [1455, 1687]])"
      ]
     },
     "execution_count": 10,
     "metadata": {},
     "output_type": "execute_result"
    }
   ],
   "source": [
    "dat = np.array(([tp, tn], [fp, fn]))\n",
    "dat"
   ]
  },
  {
   "cell_type": "code",
   "execution_count": 13,
   "metadata": {},
   "outputs": [
    {
     "data": {
      "image/png": "[encoded data removed]",
      "text/plain": [
       "<Figure size 432x288 with 1 Axes>"
      ]
     },
     "metadata": {},
     "output_type": "display_data"
    }
   ],
   "source": [
    "confusionmatrix(tp,tn,fp,fn,'title')"
   ]
  },
  {
   "cell_type": "code",
   "execution_count": 12,
   "metadata": {},
   "outputs": [],
   "source": [
    "a = {'a':10,'b':15,'c':20}\n",
    "b = {'c':10,'b':15,'e':20}\n"
   ]
  }
 ],
 "metadata": {
  "interpreter": {
   "hash": "aee8b7b246df8f9039afb4144a1f6fd8d2ca17a180786b69acc140d282b71a49"
  },
  "kernelspec": {
   "display_name": "Python 3.10.0 64-bit",
   "language": "python",
   "name": "python3"
  },
  "language_info": {
   "codemirror_mode": {
    "name": "ipython",
    "version": 3
   },
   "file_extension": ".py",
   "mimetype": "text/x-python",
   "name": "python",
   "nbconvert_exporter": "python",
   "pygments_lexer": "ipython3",
   "version": "3.10.0"
  },
  "orig_nbformat": 4
 },
 "nbformat": 4,
 "nbformat_minor": 2
}
