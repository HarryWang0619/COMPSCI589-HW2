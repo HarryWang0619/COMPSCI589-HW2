{
 "cells": [
  {
   "cell_type": "code",
   "execution_count": 344,
   "metadata": {},
   "outputs": [],
   "source": [
    "from cgi import test\n",
    "import re\n",
    "import os\n",
    "import glob\n",
    "import random\n",
    "from nltk.corpus import stopwords\n",
    "import nltk\n",
    "import string\n",
    "from pprint import pprint\n",
    "from utils import *\n",
    "from collections import Counter\n",
    "import math"
   ]
  },
  {
   "cell_type": "code",
   "execution_count": 345,
   "metadata": {},
   "outputs": [],
   "source": [
    "positrain, negatrain, voc = load_training_set(0.01,0.01)"
   ]
  },
  {
   "cell_type": "code",
   "execution_count": 346,
   "metadata": {},
   "outputs": [
    {
     "name": "stdout",
     "output_type": "stream",
     "text": [
      "134\n",
      "136\n",
      "8337\n"
     ]
    }
   ],
   "source": [
    "posinum = len(positrain)\n",
    "neganum = len(negatrain)\n",
    "suminstance = neganum+posinum\n",
    "print(len(negatrain))\n",
    "print(len(positrain))\n",
    "print(len(voc))"
   ]
  },
  {
   "cell_type": "code",
   "execution_count": 347,
   "metadata": {},
   "outputs": [
    {
     "data": {
      "text/plain": [
       "16906"
      ]
     },
     "execution_count": 347,
     "metadata": {},
     "output_type": "execute_result"
    }
   ],
   "source": [
    "sum([len(i) for i in positrain])"
   ]
  },
  {
   "cell_type": "code",
   "execution_count": 348,
   "metadata": {},
   "outputs": [],
   "source": [
    "countdict =  [dict(Counter(i)) for i in positrain]\n",
    "testinstance = countdict[11]"
   ]
  },
  {
   "cell_type": "code",
   "execution_count": 349,
   "metadata": {},
   "outputs": [
    {
     "name": "stdout",
     "output_type": "stream",
     "text": [
      "16906\n",
      "14385\n"
     ]
    }
   ],
   "source": [
    "def train(positivedata, negativedata):\n",
    "    posidict = dict(Counter(sum(positivedata,[])))\n",
    "    print(len(sum(positivedata,[])))\n",
    "    print(len(sum(negativedata,[])))\n",
    "    negadict = dict(Counter(sum(negativedata,[])))  \n",
    "    return posidict, negadict\n",
    "\n",
    "posidict, negadict = train(positrain, negatrain)"
   ]
  },
  {
   "cell_type": "code",
   "execution_count": 356,
   "metadata": {},
   "outputs": [],
   "source": [
    "\n",
    "def probilityof(positivetrain, negativetrain, positivedict, negativedict, category: string, instance, log: bool, laplacesmooth: bool, smoothconstant = 1):\n",
    "\n",
    "    posinum = len(positivetrain)\n",
    "    neganum = len(negativetrain)\n",
    "    suminstance = neganum+posinum   \n",
    "\n",
    "    if category == \"posi\" or category == \"positive\":\n",
    "        num = posinum\n",
    "        trainset = positivetrain\n",
    "        dictuse = positivedict\n",
    "    else:\n",
    "        num = neganum\n",
    "        trainset = negativetrain\n",
    "        dictuse = negativedict\n",
    "\n",
    "    plist = []\n",
    "    p0 = num/suminstance\n",
    "    plist.append(p0)\n",
    "    denominator = sum([len(i) for i in trainset])\n",
    "    # print(sum(dictuse.values())-denominator)\n",
    "    vsize = len(dictuse)\n",
    "\n",
    "    for i in instance:\n",
    "        if (not laplacesmooth):\n",
    "            if i in dictuse:\n",
    "                probinstance = (dictuse[i]/denominator)\n",
    "            else: \n",
    "                continue\n",
    "        else: # Smooth\n",
    "            if i in dictuse:\n",
    "                probinstance = ((dictuse[i]+smoothconstant)/(denominator+smoothconstant*vsize))\n",
    "            else: \n",
    "                probinstance = ((smoothconstant)/(smoothconstant*vsize))\n",
    "        plist.append(probinstance)\n",
    "\n",
    "    if log:\n",
    "        loglist = list(map(math.log10, plist))\n",
    "        return sum(loglist)\n",
    "    \n",
    "    # if 0 not in plist:\n",
    "    #     print(\"prob is not zero\")\n",
    "\n",
    "    return math.prod(plist)"
   ]
  },
  {
   "cell_type": "code",
   "execution_count": 358,
   "metadata": {},
   "outputs": [
    {
     "name": "stdout",
     "output_type": "stream",
     "text": [
      "老8\n",
      "-130.42205168627697\n",
      "-86.75026405187567\n"
     ]
    }
   ],
   "source": [
    "pposi = probilityof(positrain,negatrain,posidict,negadict,'posi',testinstance,True,False)\n",
    "pnega = probilityof(positrain,negatrain,posidict,negadict,'nega',testinstance,True,False)\n",
    "\n",
    "print(pposi)\n",
    "print(pnega)"
   ]
  }
 ],
 "metadata": {
  "interpreter": {
   "hash": "aee8b7b246df8f9039afb4144a1f6fd8d2ca17a180786b69acc140d282b71a49"
  },
  "kernelspec": {
   "display_name": "Python 3.10.0 64-bit",
   "language": "python",
   "name": "python3"
  },
  "language_info": {
   "codemirror_mode": {
    "name": "ipython",
    "version": 3
   },
   "file_extension": ".py",
   "mimetype": "text/x-python",
   "name": "python",
   "nbconvert_exporter": "python",
   "pygments_lexer": "ipython3",
   "version": "3.10.0"
  },
  "orig_nbformat": 4
 },
 "nbformat": 4,
 "nbformat_minor": 2
}
